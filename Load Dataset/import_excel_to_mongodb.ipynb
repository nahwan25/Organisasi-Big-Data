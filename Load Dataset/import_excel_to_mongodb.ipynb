{
 "cells": [
  {
   "cell_type": "code",
   "execution_count": 1,
   "id": "ef1d70eb",
   "metadata": {},
   "outputs": [
    {
     "name": "stdout",
     "output_type": "stream",
     "text": [
      "Requirement already satisfied: pandas in c:\\users\\thinkpad\\onedrive\\documents\\miniconda\\lib\\site-packages (2.2.3)\n",
      "Requirement already satisfied: pymongo in c:\\users\\thinkpad\\onedrive\\documents\\miniconda\\lib\\site-packages (4.13.0)\n",
      "Requirement already satisfied: openpyxl in c:\\users\\thinkpad\\onedrive\\documents\\miniconda\\lib\\site-packages (3.1.5)\n",
      "Requirement already satisfied: numpy>=1.22.4 in c:\\users\\thinkpad\\onedrive\\documents\\miniconda\\lib\\site-packages (from pandas) (1.26.4)\n",
      "Requirement already satisfied: pytz>=2020.1 in c:\\users\\thinkpad\\onedrive\\documents\\miniconda\\lib\\site-packages (from pandas) (2024.2)\n",
      "Requirement already satisfied: tzdata>=2022.7 in c:\\users\\thinkpad\\onedrive\\documents\\miniconda\\lib\\site-packages (from pandas) (2024.2)\n",
      "Requirement already satisfied: python-dateutil>=2.8.2 in c:\\users\\thinkpad\\onedrive\\documents\\miniconda\\lib\\site-packages (from pandas) (2.9.0.post0)\n",
      "Requirement already satisfied: dnspython<3.0.0,>=1.16.0 in c:\\users\\thinkpad\\onedrive\\documents\\miniconda\\lib\\site-packages (from pymongo) (2.7.0)\n",
      "Requirement already satisfied: et-xmlfile in c:\\users\\thinkpad\\onedrive\\documents\\miniconda\\lib\\site-packages (from openpyxl) (2.0.0)\n",
      "Requirement already satisfied: six>=1.5 in c:\\users\\thinkpad\\onedrive\\documents\\miniconda\\lib\\site-packages (from python-dateutil>=2.8.2->pandas) (1.16.0)\n"
     ]
    }
   ],
   "source": [
    "!pip install pandas pymongo openpyxl"
   ]
  },
  {
   "cell_type": "code",
   "execution_count": 2,
   "id": "8ac1be21",
   "metadata": {},
   "outputs": [],
   "source": [
    "from pymongo import MongoClient"
   ]
  },
  {
   "cell_type": "code",
   "execution_count": 3,
   "id": "1324a954",
   "metadata": {},
   "outputs": [
    {
     "data": {
      "text/html": [
       "<div>\n",
       "<style scoped>\n",
       "    .dataframe tbody tr th:only-of-type {\n",
       "        vertical-align: middle;\n",
       "    }\n",
       "\n",
       "    .dataframe tbody tr th {\n",
       "        vertical-align: top;\n",
       "    }\n",
       "\n",
       "    .dataframe thead th {\n",
       "        text-align: right;\n",
       "    }\n",
       "</style>\n",
       "<table border=\"1\" class=\"dataframe\">\n",
       "  <thead>\n",
       "    <tr style=\"text-align: right;\">\n",
       "      <th></th>\n",
       "      <th>CustomerID</th>\n",
       "      <th>ProductID</th>\n",
       "      <th>Quantity</th>\n",
       "      <th>Price</th>\n",
       "      <th>TransactionDate</th>\n",
       "      <th>PaymentMethod</th>\n",
       "      <th>StoreLocation</th>\n",
       "      <th>ProductCategory</th>\n",
       "      <th>DiscountApplied(%)</th>\n",
       "      <th>TotalAmount</th>\n",
       "    </tr>\n",
       "  </thead>\n",
       "  <tbody>\n",
       "    <tr>\n",
       "      <th>0</th>\n",
       "      <td>109318</td>\n",
       "      <td>C</td>\n",
       "      <td>7</td>\n",
       "      <td>80.079844</td>\n",
       "      <td>2023-12-26 12:32:00</td>\n",
       "      <td>Cash</td>\n",
       "      <td>176 Andrew Cliffs\\nBaileyfort, HI 93354</td>\n",
       "      <td>Books</td>\n",
       "      <td>18.677100</td>\n",
       "      <td>455.862764</td>\n",
       "    </tr>\n",
       "    <tr>\n",
       "      <th>1</th>\n",
       "      <td>993229</td>\n",
       "      <td>C</td>\n",
       "      <td>4</td>\n",
       "      <td>75.195229</td>\n",
       "      <td>2023-08-05 00:00:00</td>\n",
       "      <td>Cash</td>\n",
       "      <td>11635 William Well Suite 809\\nEast Kara, MT 19483</td>\n",
       "      <td>Home Decor</td>\n",
       "      <td>14.121365</td>\n",
       "      <td>258.306546</td>\n",
       "    </tr>\n",
       "    <tr>\n",
       "      <th>2</th>\n",
       "      <td>579675</td>\n",
       "      <td>A</td>\n",
       "      <td>8</td>\n",
       "      <td>31.528816</td>\n",
       "      <td>2024-03-11 18:51:00</td>\n",
       "      <td>Cash</td>\n",
       "      <td>910 Mendez Ville Suite 909\\nPort Lauraland, MO...</td>\n",
       "      <td>Books</td>\n",
       "      <td>15.943701</td>\n",
       "      <td>212.015651</td>\n",
       "    </tr>\n",
       "    <tr>\n",
       "      <th>3</th>\n",
       "      <td>799826</td>\n",
       "      <td>D</td>\n",
       "      <td>5</td>\n",
       "      <td>98.880218</td>\n",
       "      <td>2023-10-27 22:00:00</td>\n",
       "      <td>PayPal</td>\n",
       "      <td>87522 Sharon Corners Suite 500\\nLake Tammy, MO...</td>\n",
       "      <td>Books</td>\n",
       "      <td>6.686337</td>\n",
       "      <td>461.343769</td>\n",
       "    </tr>\n",
       "    <tr>\n",
       "      <th>4</th>\n",
       "      <td>121413</td>\n",
       "      <td>A</td>\n",
       "      <td>7</td>\n",
       "      <td>93.188512</td>\n",
       "      <td>2023-12-22 11:38:00</td>\n",
       "      <td>Cash</td>\n",
       "      <td>0070 Michelle Island Suite 143\\nHoland, VA 80142</td>\n",
       "      <td>Electronics</td>\n",
       "      <td>4.030096</td>\n",
       "      <td>626.030484</td>\n",
       "    </tr>\n",
       "  </tbody>\n",
       "</table>\n",
       "</div>"
      ],
      "text/plain": [
       "   CustomerID ProductID  Quantity      Price     TransactionDate  \\\n",
       "0      109318         C         7  80.079844 2023-12-26 12:32:00   \n",
       "1      993229         C         4  75.195229 2023-08-05 00:00:00   \n",
       "2      579675         A         8  31.528816 2024-03-11 18:51:00   \n",
       "3      799826         D         5  98.880218 2023-10-27 22:00:00   \n",
       "4      121413         A         7  93.188512 2023-12-22 11:38:00   \n",
       "\n",
       "  PaymentMethod                                      StoreLocation  \\\n",
       "0          Cash            176 Andrew Cliffs\\nBaileyfort, HI 93354   \n",
       "1          Cash  11635 William Well Suite 809\\nEast Kara, MT 19483   \n",
       "2          Cash  910 Mendez Ville Suite 909\\nPort Lauraland, MO...   \n",
       "3        PayPal  87522 Sharon Corners Suite 500\\nLake Tammy, MO...   \n",
       "4          Cash   0070 Michelle Island Suite 143\\nHoland, VA 80142   \n",
       "\n",
       "  ProductCategory  DiscountApplied(%)  TotalAmount  \n",
       "0           Books           18.677100   455.862764  \n",
       "1      Home Decor           14.121365   258.306546  \n",
       "2           Books           15.943701   212.015651  \n",
       "3           Books            6.686337   461.343769  \n",
       "4     Electronics            4.030096   626.030484  "
      ]
     },
     "execution_count": 3,
     "metadata": {},
     "output_type": "execute_result"
    }
   ],
   "source": [
    "import pandas as pd\n",
    "df = pd.read_excel(\"C:/Users/ThinkPad/OneDrive/Documents/Semester 6/Organisasi Big Data/Retail_Transaction_Dataset.xlsx\")  \n",
    "df.head()\n"
   ]
  },
  {
   "cell_type": "code",
   "execution_count": 4,
   "id": "04cdda5b",
   "metadata": {},
   "outputs": [],
   "source": [
    "client = MongoClient(\"mongodb://localhost:27017/\")\n",
    "db = client[\"transaction_db\"]\n",
    "collection = db[\"data_transaction\"]"
   ]
  },
  {
   "cell_type": "code",
   "execution_count": 5,
   "id": "83a339e9",
   "metadata": {},
   "outputs": [
    {
     "name": "stdout",
     "output_type": "stream",
     "text": [
      "100000 dokumen berhasil dimasukkan ke MongoDB!\n"
     ]
    }
   ],
   "source": [
    "data = df.to_dict(orient='records')\n",
    "\n",
    "if data:\n",
    "    collection.insert_many(data)\n",
    "    print(f\"{len(data)} dokumen berhasil dimasukkan ke MongoDB!\")\n",
    "else:\n",
    "    print(\"Data kosong.\")\n"
   ]
  },
  {
   "cell_type": "code",
   "execution_count": null,
   "id": "1cc3273e",
   "metadata": {},
   "outputs": [],
   "source": []
  }
 ],
 "metadata": {
  "kernelspec": {
   "display_name": "base",
   "language": "python",
   "name": "python3"
  },
  "language_info": {
   "codemirror_mode": {
    "name": "ipython",
    "version": 3
   },
   "file_extension": ".py",
   "mimetype": "text/x-python",
   "name": "python",
   "nbconvert_exporter": "python",
   "pygments_lexer": "ipython3",
   "version": "3.9.16"
  }
 },
 "nbformat": 4,
 "nbformat_minor": 5
}
