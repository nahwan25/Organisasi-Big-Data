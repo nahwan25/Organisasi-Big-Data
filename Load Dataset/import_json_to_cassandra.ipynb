{
 "cells": [
  {
   "cell_type": "code",
   "execution_count": 3,
   "id": "5f1fc242",
   "metadata": {},
   "outputs": [],
   "source": [
    "from cassandra.cluster import Cluster\n",
    "import json\n",
    "import time\n",
    "\n",
    "# Koneksi ke Cassandra\n",
    "cluster = Cluster(['127.0.0.1'])\n",
    "session = cluster.connect()\n",
    "\n",
    "# Buat keyspace (jika belum)\n",
    "session.execute(\"\"\"\n",
    "CREATE KEYSPACE IF NOT EXISTS Tubes_Orbid\n",
    "WITH replication = {'class': 'SimpleStrategy', 'replication_factor': 1}\n",
    "\"\"\")\n",
    "\n",
    "# Tunggu sebentar agar keyspace siap (menghindari error 'does not exist')\n",
    "time.sleep(2)"
   ]
  },
  {
   "cell_type": "code",
   "execution_count": 6,
   "id": "d24a0284",
   "metadata": {},
   "outputs": [],
   "source": [
    "session.set_keyspace('tubes_orbid')"
   ]
  },
  {
   "cell_type": "code",
   "execution_count": 7,
   "id": "5d7e5fb7",
   "metadata": {},
   "outputs": [
    {
     "data": {
      "text/plain": [
       "<cassandra.cluster.ResultSet at 0x283e21bbd30>"
      ]
     },
     "execution_count": 7,
     "metadata": {},
     "output_type": "execute_result"
    }
   ],
   "source": [
    "# Buat tabel (ganti struktur sesuai dataset kamu)\n",
    "session.execute(\"\"\"\n",
    "CREATE TABLE IF NOT EXISTS data_karyawan (\n",
    "    id_karyawan text PRIMARY KEY,\n",
    "    nama_lengkap text,\n",
    "    umur int,\n",
    "    jenis_kelamin text,\n",
    "    posisi text,\n",
    "    jam_kerja_per_bulan int\n",
    ")\n",
    "\"\"\")"
   ]
  },
  {
   "cell_type": "code",
   "execution_count": 9,
   "id": "2f303189",
   "metadata": {},
   "outputs": [],
   "source": [
    "# Baca file JSON\n",
    "with open(\"indomaret_employees.json\", \"r\") as file:\n",
    "    data = json.load(file)"
   ]
  },
  {
   "cell_type": "code",
   "execution_count": 10,
   "id": "a0ae42f3",
   "metadata": {},
   "outputs": [],
   "source": [
    "# Insert setiap record ke Cassandra\n",
    "for row in data:\n",
    "    session.execute(\"\"\"\n",
    "    INSERT INTO data_karyawan (\n",
    "        id_karyawan, nama_lengkap, umur,\n",
    "        jenis_kelamin, posisi, jam_kerja_per_bulan\n",
    "    ) VALUES (%s, %s, %s, %s, %s, %s)\n",
    "    \"\"\", (\n",
    "        row['id_karyawan'],\n",
    "        row['nama_lengkap'],\n",
    "        int(row['umur']),\n",
    "        row['jenis_kelamin'],\n",
    "        row['posisi'],\n",
    "        int(row['jam_kerja_per_bulan'])\n",
    "    ))"
   ]
  },
  {
   "cell_type": "code",
   "execution_count": 13,
   "id": "4bd25373",
   "metadata": {},
   "outputs": [
    {
     "name": "stdout",
     "output_type": "stream",
     "text": [
      "Row(id_karyawan='P006', jam_kerja_per_bulan=242, jenis_kelamin='Perempuan', nama_lengkap='Indah Permatasari', posisi='Staf Gudang', umur=39)\n",
      "Row(id_karyawan='P016', jam_kerja_per_bulan=235, jenis_kelamin='Perempuan', nama_lengkap='Nisa Rahmawati', posisi='Keamanan', umur=38)\n",
      "Row(id_karyawan='P007', jam_kerja_per_bulan=138, jenis_kelamin='Laki-laki', nama_lengkap='Wahyu Hidayat', posisi='Supervisor', umur=52)\n",
      "Row(id_karyawan='P019', jam_kerja_per_bulan=197, jenis_kelamin='Laki-laki', nama_lengkap='Bayu Nugroho', posisi='Supervisor', umur=32)\n",
      "Row(id_karyawan='P010', jam_kerja_per_bulan=130, jenis_kelamin='Laki-laki', nama_lengkap='Dewi Ayu Lestari', posisi='Petugas Kebersihan', umur=43)\n",
      "Row(id_karyawan='P018', jam_kerja_per_bulan=139, jenis_kelamin='Laki-laki', nama_lengkap='Intan Prameswari', posisi='Kasir', umur=53)\n",
      "Row(id_karyawan='P011', jam_kerja_per_bulan=135, jenis_kelamin='Laki-laki', nama_lengkap='Fajar Ramadhan', posisi='Keamanan', umur=34)\n",
      "Row(id_karyawan='P015', jam_kerja_per_bulan=188, jenis_kelamin='Laki-laki', nama_lengkap='Hendra Gunawan', posisi='Petugas Kebersihan', umur=44)\n",
      "Row(id_karyawan='P014', jam_kerja_per_bulan=182, jenis_kelamin='Perempuan', nama_lengkap='Lestari Wulandari', posisi='Kasir', umur=25)\n",
      "Row(id_karyawan='P012', jam_kerja_per_bulan=122, jenis_kelamin='Laki-laki', nama_lengkap='Maya Sari', posisi='Kasir', umur=38)\n",
      "Row(id_karyawan='P005', jam_kerja_per_bulan=112, jenis_kelamin='Laki-laki', nama_lengkap='Dedi Kurniawan', posisi='Supervisor', umur=39)\n",
      "Row(id_karyawan='P020', jam_kerja_per_bulan=224, jenis_kelamin='Laki-laki', nama_lengkap='Fitriani Zahra', posisi='Supervisor', umur=41)\n",
      "Row(id_karyawan='P003', jam_kerja_per_bulan=152, jenis_kelamin='Perempuan', nama_lengkap='Budi Santoso', posisi='Supervisor', umur=37)\n",
      "Row(id_karyawan='P004', jam_kerja_per_bulan=162, jenis_kelamin='Perempuan', nama_lengkap='Rina Kartika', posisi='Petugas Kebersihan', umur=52)\n",
      "Row(id_karyawan='P017', jam_kerja_per_bulan=216, jenis_kelamin='Laki-laki', nama_lengkap='Arief Setiawan', posisi='Keamanan', umur=37)\n",
      "Row(id_karyawan='P013', jam_kerja_per_bulan=124, jenis_kelamin='Perempuan', nama_lengkap='Andi Saputra', posisi='Petugas Kebersihan', umur=51)\n",
      "Row(id_karyawan='P001', jam_kerja_per_bulan=227, jenis_kelamin='Laki-laki', nama_lengkap='Ahmad Pratama', posisi='Staf Gudang', umur=37)\n",
      "Row(id_karyawan='P002', jam_kerja_per_bulan=189, jenis_kelamin='Perempuan', nama_lengkap='Siti Nurhaliza', posisi='Supervisor', umur=43)\n",
      "Row(id_karyawan='P008', jam_kerja_per_bulan=199, jenis_kelamin='Laki-laki', nama_lengkap='Yuni Marlin', posisi='Petugas Kebersihan', umur=30)\n",
      "Row(id_karyawan='P009', jam_kerja_per_bulan=192, jenis_kelamin='Perempuan', nama_lengkap='Rizky Maulana', posisi='Petugas Kebersihan', umur=41)\n"
     ]
    }
   ],
   "source": [
    "rows = session.execute(\"SELECT * FROM data_karyawan;\")\n",
    "for row in rows:\n",
    "    print(row)"
   ]
  },
  {
   "cell_type": "markdown",
   "id": "c4c969f8",
   "metadata": {},
   "source": [
    "Sebelum index"
   ]
  },
  {
   "cell_type": "code",
   "execution_count": 14,
   "id": "6b9e65f5",
   "metadata": {},
   "outputs": [
    {
     "name": "stdout",
     "output_type": "stream",
     "text": [
      "⏱️ Waktu SEBELUM indexing: 0.017951250076293945 detik\n",
      "📋 Jumlah hasil: 3\n"
     ]
    }
   ],
   "source": [
    "# Query tanpa index\n",
    "query = \"SELECT * FROM data_karyawan WHERE posisi = 'Kasir' ALLOW FILTERING\"\n",
    "\n",
    "# Ukur waktu sebelum indexing\n",
    "start = time.time()\n",
    "rows = session.execute(query)\n",
    "result_before = list(rows)\n",
    "end = time.time()\n",
    "\n",
    "print(\"⏱️ Waktu SEBELUM indexing:\", end - start, \"detik\")\n",
    "print(f\"📋 Jumlah hasil: {len(result_before)}\")\n"
   ]
  },
  {
   "cell_type": "code",
   "execution_count": 15,
   "id": "b4e5143f",
   "metadata": {},
   "outputs": [
    {
     "data": {
      "text/plain": [
       "<cassandra.cluster.ResultSet at 0x283d1df1700>"
      ]
     },
     "execution_count": 15,
     "metadata": {},
     "output_type": "execute_result"
    }
   ],
   "source": [
    "session.execute(\"CREATE INDEX IF NOT EXISTS posisi_index ON data_karyawan (posisi);\")"
   ]
  },
  {
   "cell_type": "markdown",
   "id": "d66f918c",
   "metadata": {},
   "source": [
    "Sesudah index"
   ]
  },
  {
   "cell_type": "code",
   "execution_count": 18,
   "id": "422313d9",
   "metadata": {},
   "outputs": [
    {
     "name": "stdout",
     "output_type": "stream",
     "text": [
      "⏱️ Waktu SESUDAH indexing: 0.0169525146484375 detik\n",
      "📋 Jumlah hasil: 3\n"
     ]
    }
   ],
   "source": [
    "query = \"SELECT * FROM data_karyawan WHERE posisi = 'Kasir' ALLOW FILTERING\"\n",
    "\n",
    "start = time.time()\n",
    "rows = session.execute(query)\n",
    "result_after = list(rows)\n",
    "end = time.time()\n",
    "\n",
    "print(\"⏱️ Waktu SESUDAH indexing:\", end - start, \"detik\")\n",
    "print(f\"📋 Jumlah hasil: {len(result_after)}\")"
   ]
  },
  {
   "cell_type": "code",
   "execution_count": null,
   "id": "eef20b6c",
   "metadata": {},
   "outputs": [],
   "source": []
  }
 ],
 "metadata": {
  "kernelspec": {
   "display_name": "base",
   "language": "python",
   "name": "python3"
  },
  "language_info": {
   "codemirror_mode": {
    "name": "ipython",
    "version": 3
   },
   "file_extension": ".py",
   "mimetype": "text/x-python",
   "name": "python",
   "nbconvert_exporter": "python",
   "pygments_lexer": "ipython3",
   "version": "3.9.16"
  }
 },
 "nbformat": 4,
 "nbformat_minor": 5
}
