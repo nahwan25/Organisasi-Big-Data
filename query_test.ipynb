{
 "cells": [
  {
   "cell_type": "code",
   "execution_count": 1,
   "id": "37e85370",
   "metadata": {},
   "outputs": [],
   "source": [
    "from cassandra_connector import ambil_data_dari_cassandra\n",
    "from mongo_connector import ambil_data_dari_mongodb"
   ]
  },
  {
   "cell_type": "code",
   "execution_count": 2,
   "id": "fbafc101",
   "metadata": {},
   "outputs": [
    {
     "name": "stdout",
     "output_type": "stream",
     "text": [
      "Pegawai dengan jam kerja terbanyak:\n",
      "{'sumber': 'Cassandra', 'id_karyawan': 'P006', 'nama_lengkap': 'Indah Permatasari', 'jam_kerja_per_bulan': 242}\n",
      "Waktu eksekusi: 6.0096 detik\n"
     ]
    }
   ],
   "source": [
    "import time\n",
    "\n",
    "start = time.time()\n",
    "data_karyawan = ambil_data_dari_cassandra()\n",
    "\n",
    "# Cari data dengan jam_kerja_per_bulan tertinggi\n",
    "hasil1 = max(data_karyawan, key=lambda x: x.get('jam_kerja_per_bulan', 0))\n",
    "end = time.time()\n",
    "\n",
    "print(\"Pegawai dengan jam kerja terbanyak:\")\n",
    "print(hasil1)\n",
    "print(f\"Waktu eksekusi: {end - start:.4f} detik\")"
   ]
  },
  {
   "cell_type": "code",
   "execution_count": 3,
   "id": "b77dade0",
   "metadata": {},
   "outputs": [
    {
     "name": "stdout",
     "output_type": "stream",
     "text": [
      "Transaksi dengan TotalAmount tertinggi (dari MongoDB):\n",
      "{'_id': ObjectId('6843f5cf51f321affef31c18'), 'CustomerID': 649087, 'ProductID': 'C', 'Quantity': 9, 'Price': 99.81518481, 'TransactionDate': datetime.datetime(2023, 7, 27, 13, 40), 'PaymentMethod': 'Debit Card', 'StoreLocation': '693 Williams Pine\\nRobertside, WI 23415', 'ProductCategory': 'Home Decor', 'DiscountApplied(%)': 0.244387381, 'TotalAmount': 896.1412419, 'sumber': 'MongoDB'}\n",
      "Waktu eksekusi: 0.7531 detik\n"
     ]
    }
   ],
   "source": [
    "import time\n",
    "\n",
    "start = time.time()\n",
    "data_transaksi = ambil_data_dari_mongodb()\n",
    "\n",
    "# Ambil transaksi dengan TotalAmount terbesar\n",
    "hasil1 = max(data_transaksi, key=lambda x: x.get('TotalAmount', 0))\n",
    "\n",
    "end = time.time()\n",
    "\n",
    "print(\"Transaksi dengan TotalAmount tertinggi (dari MongoDB):\")\n",
    "print(hasil1)\n",
    "print(f\"Waktu eksekusi: {end - start:.4f} detik\")"
   ]
  },
  {
   "cell_type": "code",
   "execution_count": 4,
   "id": "774d36c5",
   "metadata": {},
   "outputs": [],
   "source": [
    "from cassandra_connector import ambil_data_dari_cassandra\n",
    "from mongo_connector import ambil_data_dari_mongodb\n",
    "\n",
    "def gabungkan_semua_data2():\n",
    "    data_cassandra = ambil_data_dari_cassandra()\n",
    "    data_mongodb = ambil_data_dari_mongodb()\n",
    "    return data_cassandra + data_mongodb"
   ]
  },
  {
   "cell_type": "code",
   "execution_count": 5,
   "id": "f04738a8",
   "metadata": {},
   "outputs": [
    {
     "name": "stdout",
     "output_type": "stream",
     "text": [
      "=== Query Gabungan (Top Pegawai & Top Transaksi) ===\n",
      "Pegawai dengan jam kerja terbanyak:\n",
      "{'sumber': 'Cassandra', 'id_karyawan': 'P006', 'nama_lengkap': 'Indah Permatasari', 'jam_kerja_per_bulan': 242}\n",
      "Transaksi dengan TotalAmount tertinggi:\n",
      "{'_id': ObjectId('6843f5cf51f321affef31c18'), 'CustomerID': 649087, 'ProductID': 'C', 'Quantity': 9, 'Price': 99.81518481, 'TransactionDate': datetime.datetime(2023, 7, 27, 13, 40), 'PaymentMethod': 'Debit Card', 'StoreLocation': '693 Williams Pine\\nRobertside, WI 23415', 'ProductCategory': 'Home Decor', 'DiscountApplied(%)': 0.244387381, 'TotalAmount': 896.1412419, 'sumber': 'MongoDB'}\n",
      "\n",
      "⏱️ Waktu ambil data gabungan      : 7.6707 detik\n",
      "⏱️ Waktu filter dan analisis data   : 0.1615 detik\n"
     ]
    }
   ],
   "source": [
    "import time\n",
    "\n",
    "# Waktu ambil data gabungan\n",
    "start_fetch = time.time()\n",
    "data_gabungan = gabungkan_semua_data2()\n",
    "end_fetch = time.time()\n",
    "\n",
    "# Waktu filter & analisis (cari data tertinggi)\n",
    "start_analysis = time.time()\n",
    "\n",
    "data_karyawan = [d for d in data_gabungan if d.get(\"sumber\") == \"Cassandra\"]\n",
    "data_transaksi = [d for d in data_gabungan if d.get(\"sumber\") == \"MongoDB\"]\n",
    "\n",
    "pegawai_top = max(data_karyawan, key=lambda x: x.get('jam_kerja_per_bulan', 0))\n",
    "transaksi_top = max(data_transaksi, key=lambda x: x.get('TotalAmount', 0))\n",
    "\n",
    "end_analysis = time.time()\n",
    "\n",
    "print(\"=== Query Gabungan (Top Pegawai & Top Transaksi) ===\")\n",
    "print(\"Pegawai dengan jam kerja terbanyak:\")\n",
    "print(pegawai_top)\n",
    "print(\"Transaksi dengan TotalAmount tertinggi:\")\n",
    "print(transaksi_top)\n",
    "\n",
    "print(f\"\\n⏱️ Waktu ambil data gabungan      : {end_fetch - start_fetch:.4f} detik\")\n",
    "print(f\"⏱️ Waktu filter dan analisis data   : {end_analysis - start_analysis:.4f} detik\")"
   ]
  }
 ],
 "metadata": {
  "kernelspec": {
   "display_name": "base",
   "language": "python",
   "name": "python3"
  },
  "language_info": {
   "codemirror_mode": {
    "name": "ipython",
    "version": 3
   },
   "file_extension": ".py",
   "mimetype": "text/x-python",
   "name": "python",
   "nbconvert_exporter": "python",
   "pygments_lexer": "ipython3",
   "version": "3.9.16"
  }
 },
 "nbformat": 4,
 "nbformat_minor": 5
}
